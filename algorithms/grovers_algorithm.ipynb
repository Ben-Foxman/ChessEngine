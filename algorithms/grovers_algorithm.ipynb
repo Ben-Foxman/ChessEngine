{
  "nbformat": 4,
  "nbformat_minor": 0,
  "metadata": {
    "colab": {
      "name": "grovers_algorithm.ipynb",
      "provenance": [],
      "authorship_tag": "ABX9TyOK9HaY1ew5hZdoqQDUNiOb",
      "include_colab_link": true
    },
    "kernelspec": {
      "name": "python3",
      "display_name": "Python 3"
    }
  },
  "cells": [
    {
      "cell_type": "markdown",
      "metadata": {
        "id": "view-in-github",
        "colab_type": "text"
      },
      "source": [
        "<a href=\"https://colab.research.google.com/github/Ben-Foxman/ChessEngine/blob/master/algorithms/grovers_algorithm.ipynb\" target=\"_parent\"><img src=\"https://colab.research.google.com/assets/colab-badge.svg\" alt=\"Open In Colab\"/></a>"
      ]
    },
    {
      "cell_type": "code",
      "metadata": {
        "id": "ZZxh5CFQfRrD"
      },
      "source": [
        "# Implementation of Grover's Algorithm    Ben Foxman\n",
        "import numpy as np\n",
        "import matplotlib.pyplot as plt\n",
        "from qiskit import *"
      ],
      "execution_count": 287,
      "outputs": []
    },
    {
      "cell_type": "markdown",
      "metadata": {
        "id": "Siwp7Iv2p6ts"
      },
      "source": [
        "Grover's Algorithm: Quanutm Search. Good resource: https://qiskit.org/textbook/ch-algorithms/grover.html.\n"
      ]
    },
    {
      "cell_type": "code",
      "metadata": {
        "colab": {
          "base_uri": "https://localhost:8080/"
        },
        "id": "1Ql4FbJUtoCb",
        "outputId": "c033ac37-2274-4be8-8979-451c1058a1c0"
      },
      "source": [
        "data = [1, 3, 4, 5, 2, 4, 3, 1, 6]\n",
        "target = 6\n",
        "# concept of an \"oracle\" - function that gives 1 on the target, 0 otherwis\n",
        "def y(x, target):\n",
        "  return int(x == target) # 1 if x is the target, 0 otherwise"
      ],
      "execution_count": 96,
      "outputs": [
        {
          "output_type": "stream",
          "text": [
            "0 1\n"
          ],
          "name": "stdout"
        }
      ]
    },
    {
      "cell_type": "markdown",
      "metadata": {
        "id": "i-qRBfmnOiV1"
      },
      "source": [
        "Grover's algorithm starts by initializing every state to have equal probability (achieved by an equal superposition on each qubit). Then, an \"oracle\" is used to phase filp to state we want to search for. Finally, iterate a \"Grover diffusion operator\" - a clever way to amplify the amplitudes of states with negative phase, taking advantage of their farther distance away from the mean amplitude. "
      ]
    },
    {
      "cell_type": "code",
      "metadata": {
        "colab": {
          "base_uri": "https://localhost:8080/"
        },
        "id": "2Uei38MjfzuE",
        "outputId": "628a7801-d633-47f6-c66d-9f633877fe31"
      },
      "source": [
        "# the \"oracle\":  the job of the oracle is to take in 2^nqbit inputs and return 1 for the desired target, 0 otherwise\n",
        "nqbits = 5\n",
        "oracle = QuantumCircuit(nqbits, name='oracle')\n",
        "oracle.h(list(range(nqbits)))\n",
        "oracle.cz(0, nqbits - 1) # controlled-z alters negative sign\n",
        "oracle.to_gate() # make gate to embed in overall algorithm\n"
      ],
      "execution_count": 298,
      "outputs": [
        {
          "output_type": "execute_result",
          "data": {
            "text/plain": [
              "<qiskit.circuit.gate.Gate at 0x7f59e08eb978>"
            ]
          },
          "metadata": {
            "tags": []
          },
          "execution_count": 298
        }
      ]
    },
    {
      "cell_type": "code",
      "metadata": {
        "id": "xUPHYMcssjIY"
      },
      "source": [
        "grover = QuantumCircuit(nqbits, name='grover')\n",
        "# then iterate a \"grover diffusion operator\" \n",
        "niterations = 2 # int(np.ceil(np.sqrt(nqbits)))\n",
        "for i in range(niterations):\n",
        "  grover.h(list(range(nqbits)))\n",
        "  grover.z(list(range(nqbits)))\n",
        "  grover.cz(0, nqbits - 1)\n",
        "  grover.h(list(range(nqbits)))\n",
        "  grover.append(oracle, list(range(nqbits)))\n",
        "grover.measure_all()\n",
        "# grover.draw()"
      ],
      "execution_count": 303,
      "outputs": []
    },
    {
      "cell_type": "code",
      "metadata": {
        "colab": {
          "base_uri": "https://localhost:8080/",
          "height": 356
        },
        "id": "Km9fE0ZUfvW2",
        "outputId": "6750a587-ab09-4179-b89a-a04de0e739ad"
      },
      "source": [
        "backend = Aer.get_backend('qasm_simulator')\n",
        "result = execute(grover, backend, shots=1024).result()\n",
        "ans = result.get_counts() # on sufficient reps > sqrt(n), this converges to 2^n - 1 (our \"hit\")\n",
        "visualization.plot_histogram(ans)"
      ],
      "execution_count": 305,
      "outputs": [
        {
          "output_type": "execute_result",
          "data": {
            "image/png": "[encoded data removed]",
            "text/plain": [
              "<Figure size 504x360 with 1 Axes>"
            ]
          },
          "metadata": {
            "tags": []
          },
          "execution_count": 305
        }
      ]
    },
    {
      "cell_type": "code",
      "metadata": {
        "id": "XlW_xOmfOF29"
      },
      "source": [
        ""
      ],
      "execution_count": null,
      "outputs": []
    }
  ]
}